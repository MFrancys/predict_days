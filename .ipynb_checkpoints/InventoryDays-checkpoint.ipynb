{
 "cells": [
  {
   "cell_type": "markdown",
   "id": "color-minneapolis",
   "metadata": {},
   "source": [
    "# Inventory Days\n",
    "\n",
    "You are tasked with predicting how long the cars in the dataset ```test_cars.csv``` will remain in inventory (Days in Inventory or DI) before being sold. To do so, you must review the code used to generate a Machine Learning model of the historical data in ```train_cars.csv``` and generate a table of predictions for stakeholders to use with the same format as ```sample_submission.csv```. This prediction is incredibly important to the business and even a 1% improvement can have a large impact on margins. \n",
    "\n",
    "Sample code is provided that was written by another department but the stakeholders who are using the predictions of how long a car will stay in inventory have complained that:\n",
    "\n",
    "1) The analysis presented to them (see graph in the notebook) gave them the impression that the model was highly accurate but they are finding that it consistently underestimates DI and error is higher than expected.\n",
    "\n",
    "2) When they reviewed the code they did not understand what each line of code was doing or how to fix it\n",
    "\n",
    "3) They believe there is other information that might be useful for predicting inventory days and would like brief summary of how to improve the model in the future\n",
    "\n",
    "The goal of this project is to address the stakeholders' concerns and build a model that they can trust. The dataset is 100% generated synthetically, however the challenge is very similar to one you might face in Kavak.\n",
    "\n",
    "To complete the challenge send a finished Notebook as well as a submissions.csv file with your predictions from the ```test_cars.csv```"
   ]
  },
  {
   "cell_type": "markdown",
   "id": "blocked-ireland",
   "metadata": {},
   "source": [
    "# Code to Review"
   ]
  },
  {
   "cell_type": "markdown",
   "id": "accessible-making",
   "metadata": {},
   "source": [
    "### Data Ingestion"
   ]
  },
  {
   "cell_type": "code",
   "execution_count": 1,
   "id": "governing-atlas",
   "metadata": {},
   "outputs": [],
   "source": [
    "import pandas as pd"
   ]
  },
  {
   "cell_type": "code",
   "execution_count": 2,
   "id": "legitimate-coordinator",
   "metadata": {},
   "outputs": [
    {
     "data": {
      "text/html": [
       "<div>\n",
       "<style scoped>\n",
       "    .dataframe tbody tr th:only-of-type {\n",
       "        vertical-align: middle;\n",
       "    }\n",
       "\n",
       "    .dataframe tbody tr th {\n",
       "        vertical-align: top;\n",
       "    }\n",
       "\n",
       "    .dataframe thead th {\n",
       "        text-align: right;\n",
       "    }\n",
       "</style>\n",
       "<table border=\"1\" class=\"dataframe\">\n",
       "  <thead>\n",
       "    <tr style=\"text-align: right;\">\n",
       "      <th></th>\n",
       "      <th>car_type</th>\n",
       "      <th>average_price</th>\n",
       "      <th>transmission</th>\n",
       "      <th>body_type</th>\n",
       "    </tr>\n",
       "  </thead>\n",
       "  <tbody>\n",
       "    <tr>\n",
       "      <th>0</th>\n",
       "      <td>GMC_Sierra_2009</td>\n",
       "      <td>706981</td>\n",
       "      <td>Automatic</td>\n",
       "      <td>Sedan</td>\n",
       "    </tr>\n",
       "    <tr>\n",
       "      <th>1</th>\n",
       "      <td>Ford_Edge_2014</td>\n",
       "      <td>868193</td>\n",
       "      <td>Automatic</td>\n",
       "      <td>Sedan</td>\n",
       "    </tr>\n",
       "    <tr>\n",
       "      <th>2</th>\n",
       "      <td>Honda_City_2018</td>\n",
       "      <td>671272</td>\n",
       "      <td>Manual</td>\n",
       "      <td>SUV</td>\n",
       "    </tr>\n",
       "    <tr>\n",
       "      <th>3</th>\n",
       "      <td>Renault_Twizy_2019</td>\n",
       "      <td>204486</td>\n",
       "      <td>Automatic</td>\n",
       "      <td>Sedan</td>\n",
       "    </tr>\n",
       "    <tr>\n",
       "      <th>4</th>\n",
       "      <td>Giant_Giant GF-8_2008</td>\n",
       "      <td>701787</td>\n",
       "      <td>Manual</td>\n",
       "      <td>Sedan</td>\n",
       "    </tr>\n",
       "  </tbody>\n",
       "</table>\n",
       "</div>"
      ],
      "text/plain": [
       "                car_type  average_price transmission body_type\n",
       "0        GMC_Sierra_2009         706981    Automatic     Sedan\n",
       "1         Ford_Edge_2014         868193    Automatic     Sedan\n",
       "2        Honda_City_2018         671272       Manual       SUV\n",
       "3     Renault_Twizy_2019         204486    Automatic     Sedan\n",
       "4  Giant_Giant GF-8_2008         701787       Manual     Sedan"
      ]
     },
     "execution_count": 2,
     "metadata": {},
     "output_type": "execute_result"
    }
   ],
   "source": [
    "skus = pd.read_csv('car_type_characteristics.csv')\n",
    "skus.head()"
   ]
  },
  {
   "cell_type": "code",
   "execution_count": 3,
   "id": "criminal-quilt",
   "metadata": {},
   "outputs": [
    {
     "data": {
      "text/html": [
       "<div>\n",
       "<style scoped>\n",
       "    .dataframe tbody tr th:only-of-type {\n",
       "        vertical-align: middle;\n",
       "    }\n",
       "\n",
       "    .dataframe tbody tr th {\n",
       "        vertical-align: top;\n",
       "    }\n",
       "\n",
       "    .dataframe thead th {\n",
       "        text-align: right;\n",
       "    }\n",
       "</style>\n",
       "<table border=\"1\" class=\"dataframe\">\n",
       "  <thead>\n",
       "    <tr style=\"text-align: right;\">\n",
       "      <th></th>\n",
       "      <th>car_id</th>\n",
       "      <th>car_type</th>\n",
       "      <th>color</th>\n",
       "      <th>year</th>\n",
       "      <th>km</th>\n",
       "    </tr>\n",
       "  </thead>\n",
       "  <tbody>\n",
       "    <tr>\n",
       "      <th>0</th>\n",
       "      <td>0</td>\n",
       "      <td>Toyota_Supra_2020</td>\n",
       "      <td>Blue</td>\n",
       "      <td>2020</td>\n",
       "      <td>25848512</td>\n",
       "    </tr>\n",
       "    <tr>\n",
       "      <th>1</th>\n",
       "      <td>112</td>\n",
       "      <td>Toyota_Supra_2020</td>\n",
       "      <td>Black</td>\n",
       "      <td>2020</td>\n",
       "      <td>25913421</td>\n",
       "    </tr>\n",
       "    <tr>\n",
       "      <th>2</th>\n",
       "      <td>1497</td>\n",
       "      <td>Toyota_Supra_2020</td>\n",
       "      <td>Black</td>\n",
       "      <td>2020</td>\n",
       "      <td>24069281</td>\n",
       "    </tr>\n",
       "    <tr>\n",
       "      <th>3</th>\n",
       "      <td>1891</td>\n",
       "      <td>Toyota_Supra_2020</td>\n",
       "      <td>Blue</td>\n",
       "      <td>2020</td>\n",
       "      <td>21828354</td>\n",
       "    </tr>\n",
       "    <tr>\n",
       "      <th>4</th>\n",
       "      <td>1955</td>\n",
       "      <td>Toyota_Supra_2020</td>\n",
       "      <td>Black</td>\n",
       "      <td>2020</td>\n",
       "      <td>25620849</td>\n",
       "    </tr>\n",
       "  </tbody>\n",
       "</table>\n",
       "</div>"
      ],
      "text/plain": [
       "  car_id           car_type  color  year        km\n",
       "0      0  Toyota_Supra_2020   Blue  2020  25848512\n",
       "1    112  Toyota_Supra_2020  Black  2020  25913421\n",
       "2   1497  Toyota_Supra_2020  Black  2020  24069281\n",
       "3   1891  Toyota_Supra_2020   Blue  2020  21828354\n",
       "4   1955  Toyota_Supra_2020  Black  2020  25620849"
      ]
     },
     "execution_count": 3,
     "metadata": {},
     "output_type": "execute_result"
    }
   ],
   "source": [
    "cars = pd.read_csv('cars.csv')\n",
    "cars['car_id'] = cars.car_id.astype('string')\n",
    "cars.head()"
   ]
  },
  {
   "cell_type": "code",
   "execution_count": 4,
   "id": "running-cisco",
   "metadata": {},
   "outputs": [
    {
     "name": "stderr",
     "output_type": "stream",
     "text": [
      "/home/ec2-user/anaconda3/envs/python3/lib/python3.6/site-packages/IPython/core/interactiveshell.py:3072: DtypeWarning: Columns (1) have mixed types.Specify dtype option on import or set low_memory=False.\n",
      "  interactivity=interactivity, compiler=compiler, result=result)\n"
     ]
    },
    {
     "data": {
      "text/html": [
       "<div>\n",
       "<style scoped>\n",
       "    .dataframe tbody tr th:only-of-type {\n",
       "        vertical-align: middle;\n",
       "    }\n",
       "\n",
       "    .dataframe tbody tr th {\n",
       "        vertical-align: top;\n",
       "    }\n",
       "\n",
       "    .dataframe thead th {\n",
       "        text-align: right;\n",
       "    }\n",
       "</style>\n",
       "<table border=\"1\" class=\"dataframe\">\n",
       "  <thead>\n",
       "    <tr style=\"text-align: right;\">\n",
       "      <th></th>\n",
       "      <th>day</th>\n",
       "      <th>car_id</th>\n",
       "      <th>price</th>\n",
       "      <th>sold</th>\n",
       "    </tr>\n",
       "  </thead>\n",
       "  <tbody>\n",
       "    <tr>\n",
       "      <th>0</th>\n",
       "      <td>2019-02-09</td>\n",
       "      <td>1891</td>\n",
       "      <td>212457</td>\n",
       "      <td>False</td>\n",
       "    </tr>\n",
       "    <tr>\n",
       "      <th>1</th>\n",
       "      <td>2019-02-10</td>\n",
       "      <td>1891</td>\n",
       "      <td>212412</td>\n",
       "      <td>False</td>\n",
       "    </tr>\n",
       "    <tr>\n",
       "      <th>2</th>\n",
       "      <td>2019-02-11</td>\n",
       "      <td>1891</td>\n",
       "      <td>212367</td>\n",
       "      <td>False</td>\n",
       "    </tr>\n",
       "    <tr>\n",
       "      <th>3</th>\n",
       "      <td>2019-02-12</td>\n",
       "      <td>1891</td>\n",
       "      <td>212322</td>\n",
       "      <td>False</td>\n",
       "    </tr>\n",
       "    <tr>\n",
       "      <th>4</th>\n",
       "      <td>2019-02-13</td>\n",
       "      <td>1891</td>\n",
       "      <td>212277</td>\n",
       "      <td>False</td>\n",
       "    </tr>\n",
       "  </tbody>\n",
       "</table>\n",
       "</div>"
      ],
      "text/plain": [
       "          day car_id   price   sold\n",
       "0  2019-02-09   1891  212457  False\n",
       "1  2019-02-10   1891  212412  False\n",
       "2  2019-02-11   1891  212367  False\n",
       "3  2019-02-12   1891  212322  False\n",
       "4  2019-02-13   1891  212277  False"
      ]
     },
     "execution_count": 4,
     "metadata": {},
     "output_type": "execute_result"
    }
   ],
   "source": [
    "train = pd.read_csv('train_cars.csv')\n",
    "train['car_id'] = train['car_id'].astype('string')\n",
    "train.head()"
   ]
  },
  {
   "cell_type": "code",
   "execution_count": 5,
   "id": "international-waters",
   "metadata": {},
   "outputs": [
    {
     "data": {
      "text/html": [
       "<div>\n",
       "<style scoped>\n",
       "    .dataframe tbody tr th:only-of-type {\n",
       "        vertical-align: middle;\n",
       "    }\n",
       "\n",
       "    .dataframe tbody tr th {\n",
       "        vertical-align: top;\n",
       "    }\n",
       "\n",
       "    .dataframe thead th {\n",
       "        text-align: right;\n",
       "    }\n",
       "</style>\n",
       "<table border=\"1\" class=\"dataframe\">\n",
       "  <thead>\n",
       "    <tr style=\"text-align: right;\">\n",
       "      <th></th>\n",
       "      <th>car_id</th>\n",
       "      <th>first_date</th>\n",
       "      <th>first_price</th>\n",
       "    </tr>\n",
       "  </thead>\n",
       "  <tbody>\n",
       "    <tr>\n",
       "      <th>0</th>\n",
       "      <td>0</td>\n",
       "      <td>2019-08-14</td>\n",
       "      <td>228071</td>\n",
       "    </tr>\n",
       "    <tr>\n",
       "      <th>1</th>\n",
       "      <td>1</td>\n",
       "      <td>2019-09-18</td>\n",
       "      <td>240014</td>\n",
       "    </tr>\n",
       "    <tr>\n",
       "      <th>2</th>\n",
       "      <td>10</td>\n",
       "      <td>2019-11-08</td>\n",
       "      <td>324066</td>\n",
       "    </tr>\n",
       "    <tr>\n",
       "      <th>3</th>\n",
       "      <td>10000</td>\n",
       "      <td>2019-11-07</td>\n",
       "      <td>297417</td>\n",
       "    </tr>\n",
       "    <tr>\n",
       "      <th>4</th>\n",
       "      <td>10001</td>\n",
       "      <td>2019-12-31</td>\n",
       "      <td>934590</td>\n",
       "    </tr>\n",
       "  </tbody>\n",
       "</table>\n",
       "</div>"
      ],
      "text/plain": [
       "  car_id  first_date  first_price\n",
       "0      0  2019-08-14       228071\n",
       "1      1  2019-09-18       240014\n",
       "2     10  2019-11-08       324066\n",
       "3  10000  2019-11-07       297417\n",
       "4  10001  2019-12-31       934590"
      ]
     },
     "execution_count": 5,
     "metadata": {},
     "output_type": "execute_result"
    }
   ],
   "source": [
    "test = pd.read_csv('test_cars.csv')\n",
    "test['car_id'] = test.car_id.astype('string')\n",
    "test.head()"
   ]
  },
  {
   "cell_type": "code",
   "execution_count": 6,
   "id": "armed-commerce",
   "metadata": {},
   "outputs": [
    {
     "data": {
      "text/html": [
       "<div>\n",
       "<style scoped>\n",
       "    .dataframe tbody tr th:only-of-type {\n",
       "        vertical-align: middle;\n",
       "    }\n",
       "\n",
       "    .dataframe tbody tr th {\n",
       "        vertical-align: top;\n",
       "    }\n",
       "\n",
       "    .dataframe thead th {\n",
       "        text-align: right;\n",
       "    }\n",
       "</style>\n",
       "<table border=\"1\" class=\"dataframe\">\n",
       "  <thead>\n",
       "    <tr style=\"text-align: right;\">\n",
       "      <th></th>\n",
       "      <th>car_id</th>\n",
       "      <th>di</th>\n",
       "    </tr>\n",
       "  </thead>\n",
       "  <tbody>\n",
       "    <tr>\n",
       "      <th>0</th>\n",
       "      <td>0</td>\n",
       "      <td>10</td>\n",
       "    </tr>\n",
       "    <tr>\n",
       "      <th>1</th>\n",
       "      <td>1</td>\n",
       "      <td>10</td>\n",
       "    </tr>\n",
       "    <tr>\n",
       "      <th>2</th>\n",
       "      <td>10</td>\n",
       "      <td>10</td>\n",
       "    </tr>\n",
       "    <tr>\n",
       "      <th>3</th>\n",
       "      <td>10000</td>\n",
       "      <td>10</td>\n",
       "    </tr>\n",
       "    <tr>\n",
       "      <th>4</th>\n",
       "      <td>10001</td>\n",
       "      <td>10</td>\n",
       "    </tr>\n",
       "  </tbody>\n",
       "</table>\n",
       "</div>"
      ],
      "text/plain": [
       "   car_id  di\n",
       "0       0  10\n",
       "1       1  10\n",
       "2      10  10\n",
       "3   10000  10\n",
       "4   10001  10"
      ]
     },
     "execution_count": 6,
     "metadata": {},
     "output_type": "execute_result"
    }
   ],
   "source": [
    "sample_submission = pd.read_csv('sample_submission.csv')\n",
    "sample_submission.head()"
   ]
  },
  {
   "cell_type": "markdown",
   "id": "sophisticated-civilization",
   "metadata": {},
   "source": [
    "### Data Prep"
   ]
  },
  {
   "cell_type": "code",
   "execution_count": 7,
   "id": "useful-wound",
   "metadata": {},
   "outputs": [],
   "source": [
    "car_info = pd.merge(cars, skus, on='car_type', how='left')"
   ]
  },
  {
   "cell_type": "code",
   "execution_count": 8,
   "id": "psychological-radical",
   "metadata": {},
   "outputs": [
    {
     "data": {
      "text/html": [
       "<div>\n",
       "<style scoped>\n",
       "    .dataframe tbody tr th:only-of-type {\n",
       "        vertical-align: middle;\n",
       "    }\n",
       "\n",
       "    .dataframe tbody tr th {\n",
       "        vertical-align: top;\n",
       "    }\n",
       "\n",
       "    .dataframe thead th {\n",
       "        text-align: right;\n",
       "    }\n",
       "</style>\n",
       "<table border=\"1\" class=\"dataframe\">\n",
       "  <thead>\n",
       "    <tr style=\"text-align: right;\">\n",
       "      <th></th>\n",
       "      <th>car_id</th>\n",
       "      <th>car_type</th>\n",
       "      <th>color</th>\n",
       "      <th>year</th>\n",
       "      <th>km</th>\n",
       "      <th>average_price</th>\n",
       "      <th>transmission</th>\n",
       "      <th>body_type</th>\n",
       "    </tr>\n",
       "  </thead>\n",
       "  <tbody>\n",
       "    <tr>\n",
       "      <th>3</th>\n",
       "      <td>1891</td>\n",
       "      <td>Toyota_Supra_2020</td>\n",
       "      <td>Blue</td>\n",
       "      <td>2020</td>\n",
       "      <td>21828354</td>\n",
       "      <td>194799</td>\n",
       "      <td>Manual</td>\n",
       "      <td>Sedan</td>\n",
       "    </tr>\n",
       "    <tr>\n",
       "      <th>6</th>\n",
       "      <td>2645</td>\n",
       "      <td>Toyota_Supra_2020</td>\n",
       "      <td>White</td>\n",
       "      <td>2020</td>\n",
       "      <td>21322640</td>\n",
       "      <td>194799</td>\n",
       "      <td>Manual</td>\n",
       "      <td>Sedan</td>\n",
       "    </tr>\n",
       "    <tr>\n",
       "      <th>8</th>\n",
       "      <td>3743</td>\n",
       "      <td>Toyota_Supra_2020</td>\n",
       "      <td>Red</td>\n",
       "      <td>2020</td>\n",
       "      <td>20518362</td>\n",
       "      <td>194799</td>\n",
       "      <td>Manual</td>\n",
       "      <td>Sedan</td>\n",
       "    </tr>\n",
       "    <tr>\n",
       "      <th>11</th>\n",
       "      <td>5083</td>\n",
       "      <td>Toyota_Supra_2020</td>\n",
       "      <td>Black</td>\n",
       "      <td>2020</td>\n",
       "      <td>27073159</td>\n",
       "      <td>194799</td>\n",
       "      <td>Manual</td>\n",
       "      <td>Sedan</td>\n",
       "    </tr>\n",
       "    <tr>\n",
       "      <th>15</th>\n",
       "      <td>7156</td>\n",
       "      <td>Toyota_Supra_2020</td>\n",
       "      <td>Red</td>\n",
       "      <td>2020</td>\n",
       "      <td>21071772</td>\n",
       "      <td>194799</td>\n",
       "      <td>Manual</td>\n",
       "      <td>Sedan</td>\n",
       "    </tr>\n",
       "  </tbody>\n",
       "</table>\n",
       "</div>"
      ],
      "text/plain": [
       "   car_id           car_type  color  year        km  average_price  \\\n",
       "3    1891  Toyota_Supra_2020   Blue  2020  21828354         194799   \n",
       "6    2645  Toyota_Supra_2020  White  2020  21322640         194799   \n",
       "8    3743  Toyota_Supra_2020    Red  2020  20518362         194799   \n",
       "11   5083  Toyota_Supra_2020  Black  2020  27073159         194799   \n",
       "15   7156  Toyota_Supra_2020    Red  2020  21071772         194799   \n",
       "\n",
       "   transmission body_type  \n",
       "3        Manual     Sedan  \n",
       "6        Manual     Sedan  \n",
       "8        Manual     Sedan  \n",
       "11       Manual     Sedan  \n",
       "15       Manual     Sedan  "
      ]
     },
     "execution_count": 8,
     "metadata": {},
     "output_type": "execute_result"
    }
   ],
   "source": [
    "car_ids_train = train.car_id\n",
    "car_info_ids_train = []\n",
    "for i in range(len(train)):\n",
    "    car_info_ids_train.append(car_ids_train[i])\n",
    "car_info_train = car_info[car_info.car_id.isin(car_info_ids_train)]\n",
    "car_info_test = car_info[~car_info.car_id.isin(car_info_ids_train)]\n",
    "car_info_train.head()"
   ]
  },
  {
   "cell_type": "code",
   "execution_count": 9,
   "id": "animal-account",
   "metadata": {},
   "outputs": [
    {
     "data": {
      "text/html": [
       "<div>\n",
       "<style scoped>\n",
       "    .dataframe tbody tr th:only-of-type {\n",
       "        vertical-align: middle;\n",
       "    }\n",
       "\n",
       "    .dataframe tbody tr th {\n",
       "        vertical-align: top;\n",
       "    }\n",
       "\n",
       "    .dataframe thead th {\n",
       "        text-align: right;\n",
       "    }\n",
       "</style>\n",
       "<table border=\"1\" class=\"dataframe\">\n",
       "  <thead>\n",
       "    <tr style=\"text-align: right;\">\n",
       "      <th></th>\n",
       "      <th>day</th>\n",
       "      <th>car_id</th>\n",
       "      <th>price</th>\n",
       "      <th>sold</th>\n",
       "    </tr>\n",
       "  </thead>\n",
       "  <tbody>\n",
       "    <tr>\n",
       "      <th>0</th>\n",
       "      <td>2019-02-09</td>\n",
       "      <td>1891</td>\n",
       "      <td>212457</td>\n",
       "      <td>False</td>\n",
       "    </tr>\n",
       "    <tr>\n",
       "      <th>1</th>\n",
       "      <td>2019-02-10</td>\n",
       "      <td>1891</td>\n",
       "      <td>212412</td>\n",
       "      <td>False</td>\n",
       "    </tr>\n",
       "    <tr>\n",
       "      <th>2</th>\n",
       "      <td>2019-02-11</td>\n",
       "      <td>1891</td>\n",
       "      <td>212367</td>\n",
       "      <td>False</td>\n",
       "    </tr>\n",
       "    <tr>\n",
       "      <th>3</th>\n",
       "      <td>2019-02-12</td>\n",
       "      <td>1891</td>\n",
       "      <td>212322</td>\n",
       "      <td>False</td>\n",
       "    </tr>\n",
       "    <tr>\n",
       "      <th>4</th>\n",
       "      <td>2019-02-13</td>\n",
       "      <td>1891</td>\n",
       "      <td>212277</td>\n",
       "      <td>False</td>\n",
       "    </tr>\n",
       "  </tbody>\n",
       "</table>\n",
       "</div>"
      ],
      "text/plain": [
       "          day car_id   price   sold\n",
       "0  2019-02-09   1891  212457  False\n",
       "1  2019-02-10   1891  212412  False\n",
       "2  2019-02-11   1891  212367  False\n",
       "3  2019-02-12   1891  212322  False\n",
       "4  2019-02-13   1891  212277  False"
      ]
     },
     "execution_count": 9,
     "metadata": {},
     "output_type": "execute_result"
    }
   ],
   "source": [
    "car_series = train[train.groupby('car_id').sold.transform('max') == True]\n",
    "car_series_di = car_series.groupby('car_id').day.count().reset_index()\n",
    "car_series.head()"
   ]
  },
  {
   "cell_type": "markdown",
   "id": "political-reply",
   "metadata": {},
   "source": [
    "### Modeling"
   ]
  },
  {
   "cell_type": "code",
   "execution_count": 10,
   "id": "great-coffee",
   "metadata": {},
   "outputs": [],
   "source": [
    "from sklearn.ensemble import RandomForestRegressor\n",
    "from sklearn.preprocessing import LabelEncoder\n",
    "import matplotlib.pyplot as plt"
   ]
  },
  {
   "cell_type": "code",
   "execution_count": 11,
   "id": "administrative-opening",
   "metadata": {},
   "outputs": [],
   "source": [
    "X = car_info_train.set_index('car_id').loc[car_series_di.car_id]\n",
    "X_test = car_info_test.set_index('car_id').loc[test.car_id].reset_index().drop_duplicates(subset=['car_id']).drop('car_id',axis=1)\n",
    "X_train = X.sample(frac=.9)\n",
    "X_val = X.sample(frac=.1)\n",
    "Y_train = car_series_di.set_index('car_id').loc[X_train.index].day\n",
    "Y_val = car_series_di.set_index('car_id').loc[X_val.index].day"
   ]
  },
  {
   "cell_type": "code",
   "execution_count": 12,
   "id": "international-blast",
   "metadata": {},
   "outputs": [
    {
     "data": {
      "text/html": [
       "<div>\n",
       "<style scoped>\n",
       "    .dataframe tbody tr th:only-of-type {\n",
       "        vertical-align: middle;\n",
       "    }\n",
       "\n",
       "    .dataframe tbody tr th {\n",
       "        vertical-align: top;\n",
       "    }\n",
       "\n",
       "    .dataframe thead th {\n",
       "        text-align: right;\n",
       "    }\n",
       "</style>\n",
       "<table border=\"1\" class=\"dataframe\">\n",
       "  <thead>\n",
       "    <tr style=\"text-align: right;\">\n",
       "      <th></th>\n",
       "      <th>car_type</th>\n",
       "      <th>color</th>\n",
       "      <th>year</th>\n",
       "      <th>km</th>\n",
       "      <th>average_price</th>\n",
       "      <th>transmission</th>\n",
       "      <th>body_type</th>\n",
       "    </tr>\n",
       "    <tr>\n",
       "      <th>car_id</th>\n",
       "      <th></th>\n",
       "      <th></th>\n",
       "      <th></th>\n",
       "      <th></th>\n",
       "      <th></th>\n",
       "      <th></th>\n",
       "      <th></th>\n",
       "    </tr>\n",
       "  </thead>\n",
       "  <tbody>\n",
       "    <tr>\n",
       "      <th>16872</th>\n",
       "      <td>Ford_Explorer_2011</td>\n",
       "      <td>Red</td>\n",
       "      <td>2011</td>\n",
       "      <td>15943421</td>\n",
       "      <td>340733</td>\n",
       "      <td>Automatic</td>\n",
       "      <td>Sedan</td>\n",
       "    </tr>\n",
       "    <tr>\n",
       "      <th>6040</th>\n",
       "      <td>Land Rover_Range Rover Sport_2012</td>\n",
       "      <td>Black</td>\n",
       "      <td>2012</td>\n",
       "      <td>22226415</td>\n",
       "      <td>629727</td>\n",
       "      <td>Automatic</td>\n",
       "      <td>Sedan</td>\n",
       "    </tr>\n",
       "    <tr>\n",
       "      <th>13180</th>\n",
       "      <td>Volkswagen_Crafter_2017</td>\n",
       "      <td>Blue</td>\n",
       "      <td>2017</td>\n",
       "      <td>27124845</td>\n",
       "      <td>866077</td>\n",
       "      <td>Manual</td>\n",
       "      <td>Sedan</td>\n",
       "    </tr>\n",
       "    <tr>\n",
       "      <th>13590</th>\n",
       "      <td>Peugeot_3008_2011</td>\n",
       "      <td>White</td>\n",
       "      <td>2011</td>\n",
       "      <td>35964826</td>\n",
       "      <td>128441</td>\n",
       "      <td>Automatic</td>\n",
       "      <td>Coupe</td>\n",
       "    </tr>\n",
       "    <tr>\n",
       "      <th>9263</th>\n",
       "      <td>Mercedes Benz_Clase E_2018</td>\n",
       "      <td>Black</td>\n",
       "      <td>2018</td>\n",
       "      <td>39014895</td>\n",
       "      <td>717393</td>\n",
       "      <td>Automatic</td>\n",
       "      <td>Sedan</td>\n",
       "    </tr>\n",
       "  </tbody>\n",
       "</table>\n",
       "</div>"
      ],
      "text/plain": [
       "                                 car_type  color  year        km  \\\n",
       "car_id                                                             \n",
       "16872                  Ford_Explorer_2011    Red  2011  15943421   \n",
       "6040    Land Rover_Range Rover Sport_2012  Black  2012  22226415   \n",
       "13180             Volkswagen_Crafter_2017   Blue  2017  27124845   \n",
       "13590                   Peugeot_3008_2011  White  2011  35964826   \n",
       "9263           Mercedes Benz_Clase E_2018  Black  2018  39014895   \n",
       "\n",
       "        average_price transmission body_type  \n",
       "car_id                                        \n",
       "16872          340733    Automatic     Sedan  \n",
       "6040           629727    Automatic     Sedan  \n",
       "13180          866077       Manual     Sedan  \n",
       "13590          128441    Automatic     Coupe  \n",
       "9263           717393    Automatic     Sedan  "
      ]
     },
     "execution_count": 12,
     "metadata": {},
     "output_type": "execute_result"
    }
   ],
   "source": [
    "X_train.head()"
   ]
  },
  {
   "cell_type": "code",
   "execution_count": 13,
   "id": "organic-industry",
   "metadata": {},
   "outputs": [
    {
     "name": "stderr",
     "output_type": "stream",
     "text": [
      "/home/ec2-user/anaconda3/envs/python3/lib/python3.6/site-packages/sklearn/utils/validation.py:63: DataConversionWarning: A column-vector y was passed when a 1d array was expected. Please change the shape of y to (n_samples, ), for example using ravel().\n",
      "  return f(*args, **kwargs)\n"
     ]
    }
   ],
   "source": [
    "categorical_columns = ['car_type', 'color', 'year', 'transmission', 'body_type']\n",
    "cat_enc = LabelEncoder()\n",
    "for col in categorical_columns:\n",
    "    X_train[col] = cat_enc.fit_transform(X_train[[col]])\n",
    "    X_val[col] = cat_enc.fit_transform(X_val[[col]])\n",
    "    X_test[col] = cat_enc.fit_transform(X_test[[col]])"
   ]
  },
  {
   "cell_type": "code",
   "execution_count": 26,
   "id": "noted-description",
   "metadata": {},
   "outputs": [],
   "source": [
    "rf = RandomForestRegressor(n_estimators=1)"
   ]
  },
  {
   "cell_type": "code",
   "execution_count": 27,
   "id": "restricted-actor",
   "metadata": {},
   "outputs": [],
   "source": [
    "rf.fit(X_train, Y_train)\n",
    "preds = rf.predict(X_val)"
   ]
  },
  {
   "cell_type": "code",
   "execution_count": 44,
   "id": "tracked-shield",
   "metadata": {},
   "outputs": [
    {
     "data": {
      "text/plain": [
       "[<matplotlib.lines.Line2D at 0x7f571b4aee48>]"
      ]
     },
     "execution_count": 44,
     "metadata": {},
     "output_type": "execute_result"
    },
    {
     "data": {
      "image/png": "[encoded data removed]",
      "text/plain": [
       "<Figure size 432x288 with 1 Axes>"
      ]
     },
     "metadata": {
      "needs_background": "light"
     },
     "output_type": "display_data"
    }
   ],
   "source": [
    "plt.scatter(preds, Y_val, alpha=.2,s=70)\n",
    "plt.plot([0,100],[0,100])"
   ]
  },
  {
   "cell_type": "code",
   "execution_count": 45,
   "id": "funny-glance",
   "metadata": {},
   "outputs": [
    {
     "name": "stdout",
     "output_type": "stream",
     "text": [
      "MAPE: 1.3400405786533742\n"
     ]
    }
   ],
   "source": [
    "print(f'MAPE: {((preds - Y_val).abs()/Y_val).mean()}')"
   ]
  },
  {
   "cell_type": "code",
   "execution_count": 60,
   "id": "sufficient-painting",
   "metadata": {},
   "outputs": [
    {
     "name": "stdout",
     "output_type": "stream",
     "text": [
      "RMSE: 18.53134480287907\n"
     ]
    }
   ],
   "source": [
    "print(f'RMSE: {(((preds - Y_val)**2).mean())**.5}')"
   ]
  },
  {
   "cell_type": "markdown",
   "id": "latin-highlight",
   "metadata": {},
   "source": [
    "### Report"
   ]
  },
  {
   "cell_type": "code",
   "execution_count": 47,
   "id": "subject-apache",
   "metadata": {},
   "outputs": [],
   "source": [
    "preds_test = rf.predict(X_test)"
   ]
  },
  {
   "cell_type": "code",
   "execution_count": 48,
   "id": "artificial-reception",
   "metadata": {},
   "outputs": [
    {
     "data": {
      "text/html": [
       "<div>\n",
       "<style scoped>\n",
       "    .dataframe tbody tr th:only-of-type {\n",
       "        vertical-align: middle;\n",
       "    }\n",
       "\n",
       "    .dataframe tbody tr th {\n",
       "        vertical-align: top;\n",
       "    }\n",
       "\n",
       "    .dataframe thead th {\n",
       "        text-align: right;\n",
       "    }\n",
       "</style>\n",
       "<table border=\"1\" class=\"dataframe\">\n",
       "  <thead>\n",
       "    <tr style=\"text-align: right;\">\n",
       "      <th></th>\n",
       "      <th>car_id</th>\n",
       "      <th>di</th>\n",
       "    </tr>\n",
       "  </thead>\n",
       "  <tbody>\n",
       "    <tr>\n",
       "      <th>0</th>\n",
       "      <td>0</td>\n",
       "      <td>7.0</td>\n",
       "    </tr>\n",
       "    <tr>\n",
       "      <th>1</th>\n",
       "      <td>1</td>\n",
       "      <td>23.0</td>\n",
       "    </tr>\n",
       "    <tr>\n",
       "      <th>2</th>\n",
       "      <td>10</td>\n",
       "      <td>9.0</td>\n",
       "    </tr>\n",
       "    <tr>\n",
       "      <th>3</th>\n",
       "      <td>10000</td>\n",
       "      <td>15.0</td>\n",
       "    </tr>\n",
       "    <tr>\n",
       "      <th>4</th>\n",
       "      <td>10001</td>\n",
       "      <td>13.0</td>\n",
       "    </tr>\n",
       "  </tbody>\n",
       "</table>\n",
       "</div>"
      ],
      "text/plain": [
       "   car_id    di\n",
       "0       0   7.0\n",
       "1       1  23.0\n",
       "2      10   9.0\n",
       "3   10000  15.0\n",
       "4   10001  13.0"
      ]
     },
     "execution_count": 48,
     "metadata": {},
     "output_type": "execute_result"
    }
   ],
   "source": [
    "sample_submission['di'] = preds_test\n",
    "sample_submission.head()"
   ]
  },
  {
   "cell_type": "code",
   "execution_count": 49,
   "id": "sublime-execution",
   "metadata": {},
   "outputs": [],
   "source": [
    "sample_submission.to_csv('submission.csv', index=None)"
   ]
  }
 ],
 "metadata": {
  "kernelspec": {
   "display_name": "conda_python3",
   "language": "python",
   "name": "conda_python3"
  },
  "language_info": {
   "codemirror_mode": {
    "name": "ipython",
    "version": 3
   },
   "file_extension": ".py",
   "mimetype": "text/x-python",
   "name": "python",
   "nbconvert_exporter": "python",
   "pygments_lexer": "ipython3",
   "version": "3.6.13"
  }
 },
 "nbformat": 4,
 "nbformat_minor": 5
}
